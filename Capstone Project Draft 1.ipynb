{
 "cells": [
  {
   "cell_type": "code",
   "execution_count": 24,
   "metadata": {},
   "outputs": [
    {
     "name": "stderr",
     "output_type": "stream",
     "text": [
      "C:\\Users\\jeffr\\Anaconda3\\lib\\site-packages\\sklearn\\cross_validation.py:41: DeprecationWarning: This module was deprecated in version 0.18 in favor of the model_selection module into which all the refactored classes and functions are moved. Also note that the interface of the new CV iterators are different from that of this module. This module will be removed in 0.20.\n",
      "  \"This module will be removed in 0.20.\", DeprecationWarning)\n",
      "C:\\Users\\jeffr\\Anaconda3\\lib\\site-packages\\sklearn\\ensemble\\weight_boosting.py:29: DeprecationWarning: numpy.core.umath_tests is an internal NumPy module and should not be imported. It will be removed in a future NumPy release.\n",
      "  from numpy.core.umath_tests import inner1d\n"
     ]
    }
   ],
   "source": [
    "import pandas as pd\n",
    "from functools import reduce\n",
    "from sklearn import preprocessing\n",
    "from sklearn.model_selection import train_test_split\n",
    "from sklearn import tree\n",
    "from sklearn import metrics\n",
    "from sklearn.cross_validation import train_test_split\n",
    "from sklearn.ensemble import RandomForestClassifier\n",
    "from sklearn import metrics"
   ]
  },
  {
   "cell_type": "code",
   "execution_count": 2,
   "metadata": {},
   "outputs": [],
   "source": [
    "studentVLE=pd.read_csv(\"C:/Users/jeffr/Downloads/anonymisedData/studentVLE.csv\")\n",
    "studentAssessment=pd.read_csv(\"C:/Users/jeffr/Downloads/anonymisedData/studentAssessment.csv\")\n",
    "studentInfo=pd.read_csv(\"C:/Users/jeffr/Downloads/anonymisedData/studentInfo.csv\")\n",
    "studentRegistration=pd.read_csv(\"C:/Users/jeffr/Downloads/anonymisedData/studentRegistration.csv\")"
   ]
  },
  {
   "cell_type": "code",
   "execution_count": 3,
   "metadata": {},
   "outputs": [],
   "source": [
    "studentAssessment.dropna(inplace=True)\n",
    "studentInfo.dropna(inplace=True)\n",
    "studentRegistration.dropna(inplace=True)\n",
    "studentVLE.dropna(inplace=True)"
   ]
  },
  {
   "cell_type": "code",
   "execution_count": 5,
   "metadata": {},
   "outputs": [
    {
     "data": {
      "text/plain": [
       "Withdrawn      16697024\n",
       "Pass            6924889\n",
       "Fail            2169591\n",
       "Distinction     1149815\n",
       "Name: final_result, dtype: int64"
      ]
     },
     "execution_count": 5,
     "metadata": {},
     "output_type": "execute_result"
    }
   ],
   "source": [
    "combined = [studentAssessment, studentInfo, studentRegistration, studentVLE]\n",
    "df_combined = reduce(lambda left,right: pd.merge(left,right,on='id_student'), combined)\n",
    "df_combined['final_result'].value_counts()"
   ]
  },
  {
   "cell_type": "code",
   "execution_count": 7,
   "metadata": {},
   "outputs": [],
   "source": [
    "test2=df_combined.groupby('id_student')[['sum_click']].sum()"
   ]
  },
  {
   "cell_type": "code",
   "execution_count": 8,
   "metadata": {},
   "outputs": [
    {
     "data": {
      "text/plain": [
       "Withdrawn      5295\n",
       "Pass            784\n",
       "Fail            557\n",
       "Distinction     119\n",
       "Name: final_result, dtype: int64"
      ]
     },
     "execution_count": 8,
     "metadata": {},
     "output_type": "execute_result"
    }
   ],
   "source": [
    "table = [studentInfo, test2]\n",
    "table2 = reduce(lambda left,right: pd.merge(left,right,on='id_student'), table)\n",
    "table2['final_result'].value_counts()"
   ]
  },
  {
   "cell_type": "code",
   "execution_count": 11,
   "metadata": {},
   "outputs": [],
   "source": [
    "le = preprocessing.LabelEncoder()\n",
    "df_final = table2.apply(le.fit_transform)"
   ]
  },
  {
   "cell_type": "code",
   "execution_count": 12,
   "metadata": {},
   "outputs": [
    {
     "data": {
      "text/html": [
       "<div>\n",
       "<style scoped>\n",
       "    .dataframe tbody tr th:only-of-type {\n",
       "        vertical-align: middle;\n",
       "    }\n",
       "\n",
       "    .dataframe tbody tr th {\n",
       "        vertical-align: top;\n",
       "    }\n",
       "\n",
       "    .dataframe thead th {\n",
       "        text-align: right;\n",
       "    }\n",
       "</style>\n",
       "<table border=\"1\" class=\"dataframe\">\n",
       "  <thead>\n",
       "    <tr style=\"text-align: right;\">\n",
       "      <th></th>\n",
       "      <th>code_module</th>\n",
       "      <th>code_presentation</th>\n",
       "      <th>id_student</th>\n",
       "      <th>gender</th>\n",
       "      <th>region</th>\n",
       "      <th>highest_education</th>\n",
       "      <th>imd_band</th>\n",
       "      <th>age_band</th>\n",
       "      <th>num_of_prev_attempts</th>\n",
       "      <th>studied_credits</th>\n",
       "      <th>disability</th>\n",
       "      <th>final_result</th>\n",
       "      <th>sum_click</th>\n",
       "    </tr>\n",
       "  </thead>\n",
       "  <tbody>\n",
       "    <tr>\n",
       "      <th>0</th>\n",
       "      <td>0</td>\n",
       "      <td>1</td>\n",
       "      <td>59</td>\n",
       "      <td>0</td>\n",
       "      <td>0</td>\n",
       "      <td>0</td>\n",
       "      <td>7</td>\n",
       "      <td>0</td>\n",
       "      <td>0</td>\n",
       "      <td>4</td>\n",
       "      <td>0</td>\n",
       "      <td>3</td>\n",
       "      <td>885</td>\n",
       "    </tr>\n",
       "    <tr>\n",
       "      <th>1</th>\n",
       "      <td>0</td>\n",
       "      <td>3</td>\n",
       "      <td>59</td>\n",
       "      <td>0</td>\n",
       "      <td>0</td>\n",
       "      <td>0</td>\n",
       "      <td>7</td>\n",
       "      <td>0</td>\n",
       "      <td>1</td>\n",
       "      <td>4</td>\n",
       "      <td>0</td>\n",
       "      <td>1</td>\n",
       "      <td>885</td>\n",
       "    </tr>\n",
       "    <tr>\n",
       "      <th>2</th>\n",
       "      <td>0</td>\n",
       "      <td>1</td>\n",
       "      <td>102</td>\n",
       "      <td>1</td>\n",
       "      <td>8</td>\n",
       "      <td>2</td>\n",
       "      <td>7</td>\n",
       "      <td>1</td>\n",
       "      <td>0</td>\n",
       "      <td>4</td>\n",
       "      <td>0</td>\n",
       "      <td>3</td>\n",
       "      <td>2236</td>\n",
       "    </tr>\n",
       "    <tr>\n",
       "      <th>3</th>\n",
       "      <td>0</td>\n",
       "      <td>3</td>\n",
       "      <td>102</td>\n",
       "      <td>1</td>\n",
       "      <td>8</td>\n",
       "      <td>2</td>\n",
       "      <td>7</td>\n",
       "      <td>1</td>\n",
       "      <td>1</td>\n",
       "      <td>4</td>\n",
       "      <td>0</td>\n",
       "      <td>2</td>\n",
       "      <td>2236</td>\n",
       "    </tr>\n",
       "    <tr>\n",
       "      <th>4</th>\n",
       "      <td>0</td>\n",
       "      <td>1</td>\n",
       "      <td>116</td>\n",
       "      <td>1</td>\n",
       "      <td>8</td>\n",
       "      <td>1</td>\n",
       "      <td>8</td>\n",
       "      <td>1</td>\n",
       "      <td>0</td>\n",
       "      <td>4</td>\n",
       "      <td>0</td>\n",
       "      <td>3</td>\n",
       "      <td>880</td>\n",
       "    </tr>\n",
       "  </tbody>\n",
       "</table>\n",
       "</div>"
      ],
      "text/plain": [
       "   code_module  code_presentation  id_student  gender  region  \\\n",
       "0            0                  1          59       0       0   \n",
       "1            0                  3          59       0       0   \n",
       "2            0                  1         102       1       8   \n",
       "3            0                  3         102       1       8   \n",
       "4            0                  1         116       1       8   \n",
       "\n",
       "   highest_education  imd_band  age_band  num_of_prev_attempts  \\\n",
       "0                  0         7         0                     0   \n",
       "1                  0         7         0                     1   \n",
       "2                  2         7         1                     0   \n",
       "3                  2         7         1                     1   \n",
       "4                  1         8         1                     0   \n",
       "\n",
       "   studied_credits  disability  final_result  sum_click  \n",
       "0                4           0             3        885  \n",
       "1                4           0             1        885  \n",
       "2                4           0             3       2236  \n",
       "3                4           0             2       2236  \n",
       "4                4           0             3        880  "
      ]
     },
     "execution_count": 12,
     "metadata": {},
     "output_type": "execute_result"
    }
   ],
   "source": [
    "df_final.head()"
   ]
  },
  {
   "cell_type": "code",
   "execution_count": 13,
   "metadata": {},
   "outputs": [],
   "source": [
    "is1=df_final['code_presentation']==1"
   ]
  },
  {
   "cell_type": "code",
   "execution_count": 14,
   "metadata": {},
   "outputs": [
    {
     "name": "stdout",
     "output_type": "stream",
     "text": [
      "0     True\n",
      "1    False\n",
      "2     True\n",
      "3    False\n",
      "4     True\n",
      "Name: code_presentation, dtype: bool\n"
     ]
    }
   ],
   "source": [
    "print(is1.head())"
   ]
  },
  {
   "cell_type": "code",
   "execution_count": 15,
   "metadata": {},
   "outputs": [],
   "source": [
    "df_final1=df_final[is1]"
   ]
  },
  {
   "cell_type": "code",
   "execution_count": 16,
   "metadata": {},
   "outputs": [],
   "source": [
    "is2=df_final['code_presentation']==2\n",
    "is3=df_final['code_presentation']==3\n",
    "is4=df_final['code_presentation']==4"
   ]
  },
  {
   "cell_type": "code",
   "execution_count": 17,
   "metadata": {},
   "outputs": [],
   "source": [
    "df_final2=df_final[is2]\n",
    "df_final3=df_final[is3]\n",
    "df_final4=df_final[is4]"
   ]
  },
  {
   "cell_type": "code",
   "execution_count": 18,
   "metadata": {},
   "outputs": [],
   "source": [
    "proj=pd.concat([df_final1,df_final2,df_final3,df_final4])\n",
    "# I probably am doing something wrong here, I got all the tables to have one row representing one student on one module\n",
    "# then added all the modules together"
   ]
  },
  {
   "cell_type": "code",
   "execution_count": 19,
   "metadata": {},
   "outputs": [
    {
     "data": {
      "text/html": [
       "<div>\n",
       "<style scoped>\n",
       "    .dataframe tbody tr th:only-of-type {\n",
       "        vertical-align: middle;\n",
       "    }\n",
       "\n",
       "    .dataframe tbody tr th {\n",
       "        vertical-align: top;\n",
       "    }\n",
       "\n",
       "    .dataframe thead th {\n",
       "        text-align: right;\n",
       "    }\n",
       "</style>\n",
       "<table border=\"1\" class=\"dataframe\">\n",
       "  <thead>\n",
       "    <tr style=\"text-align: right;\">\n",
       "      <th></th>\n",
       "      <th>code_module</th>\n",
       "      <th>code_presentation</th>\n",
       "      <th>id_student</th>\n",
       "      <th>gender</th>\n",
       "      <th>region</th>\n",
       "      <th>highest_education</th>\n",
       "      <th>imd_band</th>\n",
       "      <th>age_band</th>\n",
       "      <th>num_of_prev_attempts</th>\n",
       "      <th>studied_credits</th>\n",
       "      <th>disability</th>\n",
       "      <th>final_result</th>\n",
       "      <th>sum_click</th>\n",
       "    </tr>\n",
       "  </thead>\n",
       "  <tbody>\n",
       "    <tr>\n",
       "      <th>0</th>\n",
       "      <td>0</td>\n",
       "      <td>1</td>\n",
       "      <td>59</td>\n",
       "      <td>0</td>\n",
       "      <td>0</td>\n",
       "      <td>0</td>\n",
       "      <td>7</td>\n",
       "      <td>0</td>\n",
       "      <td>0</td>\n",
       "      <td>4</td>\n",
       "      <td>0</td>\n",
       "      <td>3</td>\n",
       "      <td>885</td>\n",
       "    </tr>\n",
       "    <tr>\n",
       "      <th>2</th>\n",
       "      <td>0</td>\n",
       "      <td>1</td>\n",
       "      <td>102</td>\n",
       "      <td>1</td>\n",
       "      <td>8</td>\n",
       "      <td>2</td>\n",
       "      <td>7</td>\n",
       "      <td>1</td>\n",
       "      <td>0</td>\n",
       "      <td>4</td>\n",
       "      <td>0</td>\n",
       "      <td>3</td>\n",
       "      <td>2236</td>\n",
       "    </tr>\n",
       "    <tr>\n",
       "      <th>4</th>\n",
       "      <td>0</td>\n",
       "      <td>1</td>\n",
       "      <td>116</td>\n",
       "      <td>1</td>\n",
       "      <td>8</td>\n",
       "      <td>1</td>\n",
       "      <td>8</td>\n",
       "      <td>1</td>\n",
       "      <td>0</td>\n",
       "      <td>4</td>\n",
       "      <td>0</td>\n",
       "      <td>3</td>\n",
       "      <td>880</td>\n",
       "    </tr>\n",
       "    <tr>\n",
       "      <th>5</th>\n",
       "      <td>0</td>\n",
       "      <td>1</td>\n",
       "      <td>160</td>\n",
       "      <td>1</td>\n",
       "      <td>11</td>\n",
       "      <td>0</td>\n",
       "      <td>5</td>\n",
       "      <td>0</td>\n",
       "      <td>0</td>\n",
       "      <td>4</td>\n",
       "      <td>0</td>\n",
       "      <td>3</td>\n",
       "      <td>2798</td>\n",
       "    </tr>\n",
       "    <tr>\n",
       "      <th>7</th>\n",
       "      <td>0</td>\n",
       "      <td>1</td>\n",
       "      <td>173</td>\n",
       "      <td>0</td>\n",
       "      <td>7</td>\n",
       "      <td>2</td>\n",
       "      <td>9</td>\n",
       "      <td>1</td>\n",
       "      <td>0</td>\n",
       "      <td>4</td>\n",
       "      <td>1</td>\n",
       "      <td>3</td>\n",
       "      <td>1923</td>\n",
       "    </tr>\n",
       "  </tbody>\n",
       "</table>\n",
       "</div>"
      ],
      "text/plain": [
       "   code_module  code_presentation  id_student  gender  region  \\\n",
       "0            0                  1          59       0       0   \n",
       "2            0                  1         102       1       8   \n",
       "4            0                  1         116       1       8   \n",
       "5            0                  1         160       1      11   \n",
       "7            0                  1         173       0       7   \n",
       "\n",
       "   highest_education  imd_band  age_band  num_of_prev_attempts  \\\n",
       "0                  0         7         0                     0   \n",
       "2                  2         7         1                     0   \n",
       "4                  1         8         1                     0   \n",
       "5                  0         5         0                     0   \n",
       "7                  2         9         1                     0   \n",
       "\n",
       "   studied_credits  disability  final_result  sum_click  \n",
       "0                4           0             3        885  \n",
       "2                4           0             3       2236  \n",
       "4                4           0             3        880  \n",
       "5                4           0             3       2798  \n",
       "7                4           1             3       1923  "
      ]
     },
     "execution_count": 19,
     "metadata": {},
     "output_type": "execute_result"
    }
   ],
   "source": [
    "proj.head()"
   ]
  },
  {
   "cell_type": "code",
   "execution_count": 20,
   "metadata": {},
   "outputs": [],
   "source": [
    "proj2=proj.drop(columns=\"sum_click\")"
   ]
  },
  {
   "cell_type": "code",
   "execution_count": 22,
   "metadata": {},
   "outputs": [
    {
     "name": "stdout",
     "output_type": "stream",
     "text": [
      "Accuracy:0.721 \n",
      "\n"
     ]
    },
    {
     "name": "stderr",
     "output_type": "stream",
     "text": [
      "C:\\Users\\jeffr\\Anaconda3\\lib\\site-packages\\sklearn\\model_selection\\_split.py:2026: FutureWarning: From version 0.21, test_size will always complement train_size unless both are specified.\n",
      "  FutureWarning)\n"
     ]
    }
   ],
   "source": [
    "# Decision Tree for Table with sum_click\n",
    "\n",
    "X = proj.loc[:, proj.columns != 'final_result']\n",
    "y = proj['final_result']\n",
    "xTrain, xTest, yTrain, yTest = train_test_split(X, y,train_size = 0.75)\n",
    "\n",
    "dt = tree.DecisionTreeClassifier(criterion='gini')\n",
    "dt = dt.fit(xTrain, yTrain)\n",
    "train_pred = dt.predict(xTrain)\n",
    "test_pred = dt.predict(xTest)\n",
    "print(\"Accuracy:{0:.3f}\".format(metrics.accuracy_score(yTest, test_pred)),\"\\n\")"
   ]
  },
  {
   "cell_type": "code",
   "execution_count": 23,
   "metadata": {},
   "outputs": [
    {
     "name": "stdout",
     "output_type": "stream",
     "text": [
      "Accuracy:0.683 \n",
      "\n"
     ]
    }
   ],
   "source": [
    "# Decision Tree for Table without sum_click\n",
    "\n",
    "X = proj2.loc[:, proj2.columns != 'final_result']\n",
    "y = proj2['final_result']\n",
    "xTrain, xTest, yTrain, yTest = train_test_split(X, y,train_size = 0.75)\n",
    "\n",
    "dt = tree.DecisionTreeClassifier(criterion='gini')\n",
    "dt = dt.fit(xTrain, yTrain)\n",
    "train_pred = dt.predict(xTrain)\n",
    "test_pred = dt.predict(xTest)\n",
    "print(\"Accuracy:{0:.3f}\".format(metrics.accuracy_score(yTest, test_pred)),\"\\n\")"
   ]
  },
  {
   "cell_type": "code",
   "execution_count": 25,
   "metadata": {},
   "outputs": [
    {
     "name": "stdout",
     "output_type": "stream",
     "text": [
      "Accuracy:0.742 \n",
      "\n"
     ]
    }
   ],
   "source": [
    "# Random Forest for Table without sum_click\n",
    "X = proj2.loc[:, proj2.columns != 'final_result']\n",
    "y = proj2['final_result']\n",
    "xTrain, xTest, yTrain, yTest = train_test_split(X, y,train_size = 0.75)\n",
    "\n",
    "rf = RandomForestClassifier(n_estimators=10,random_state=33)\n",
    "rf = rf.fit(xTrain, yTrain)\n",
    "train_pred = rf.predict(xTrain)\n",
    "test_pred = rf.predict(xTest)\n",
    "print(\"Accuracy:{0:.3f}\".format(metrics.accuracy_score(yTest, test_pred)),\"\\n\")"
   ]
  },
  {
   "cell_type": "code",
   "execution_count": null,
   "metadata": {},
   "outputs": [],
   "source": [
    "# Random Forest for Table with sum_click\n",
    "X = proj.loc[:, proj.columns != 'final_result']\n",
    "y = proj['final_result']\n",
    "xTrain, xTest, yTrain, yTest = train_test_split(X, y,train_size = 0.75)\n",
    "\n",
    "rf = RandomForestClassifier(n_estimators=10,random_state=33)\n",
    "rf = rf.fit(xTrain, yTrain)\n",
    "train_pred = rf.predict(xTrain)\n",
    "test_pred = rf.predict(xTest)\n",
    "print(\"Accuracy:{0:.3f}\".format(metrics.accuracy_score(yTest, test_pred)),\"\\n\")"
   ]
  }
 ],
 "metadata": {
  "kernelspec": {
   "display_name": "Python 3",
   "language": "python",
   "name": "python3"
  },
  "language_info": {
   "codemirror_mode": {
    "name": "ipython",
    "version": 3
   },
   "file_extension": ".py",
   "mimetype": "text/x-python",
   "name": "python",
   "nbconvert_exporter": "python",
   "pygments_lexer": "ipython3",
   "version": "3.7.3"
  }
 },
 "nbformat": 4,
 "nbformat_minor": 2
}
