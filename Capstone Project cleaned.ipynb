{
 "cells": [
  {
   "cell_type": "code",
   "execution_count": 1,
   "metadata": {},
   "outputs": [],
   "source": [
    "import pandas as pd\n",
    "import numpy as np\n",
    "from functools import reduce\n",
    "from sklearn import preprocessing\n",
    "from sklearn.model_selection import train_test_split\n",
    "from sklearn import tree\n",
    "from sklearn import metrics\n",
    "from sklearn.ensemble import RandomForestClassifier\n",
    "from sklearn import metrics\n",
    "import matplotlib.pyplot as plt"
   ]
  },
  {
   "cell_type": "code",
   "execution_count": 2,
   "metadata": {},
   "outputs": [],
   "source": [
    "student_info = pd.read_csv(\"C:/Users/jeffr/Downloads/anonymisedData/studentInfo.csv\")\n",
    "assessments = pd.read_csv(\"C:/Users/jeffr/Downloads/anonymisedData/assessments.csv\")\n",
    "student_assessment = pd.read_csv(\"C:/Users/jeffr/Downloads/anonymisedData/studentAssessment.csv\")\n",
    "courses = pd.read_csv(\"C:/Users/jeffr/Downloads/anonymisedData/courses.csv\")\n",
    "student_registration = pd.read_csv(\"C:/Users/jeffr/Downloads/anonymisedData/studentRegistration.csv\")\n",
    "student_vle = pd.read_csv(\"C:/Users/jeffr/Downloads/anonymisedData/studentVle.csv\")\n",
    "vle = pd.read_csv(\"C:/Users/jeffr/Downloads/anonymisedData/vle.csv\")\n",
    "\n",
    "#replicability"
   ]
  },
  {
   "cell_type": "code",
   "execution_count": 3,
   "metadata": {},
   "outputs": [],
   "source": [
    "student_assessment.dropna(inplace=True)\n",
    "student_info.dropna(inplace=True)\n",
    "student_registration.dropna(inplace=True)\n",
    "student_vle.dropna(inplace=True)"
   ]
  },
  {
   "cell_type": "code",
   "execution_count": 30,
   "metadata": {},
   "outputs": [
    {
     "data": {
      "text/plain": [
       "Withdrawn      16697024\n",
       "Pass            6924889\n",
       "Fail            2169591\n",
       "Distinction     1149815\n",
       "Name: final_result, dtype: int64"
      ]
     },
     "execution_count": 30,
     "metadata": {},
     "output_type": "execute_result"
    }
   ],
   "source": [
    "combined = [student_assessment, student_info, student_registration, student_vle]\n",
    "combined = reduce(lambda left,right: pd.merge(left,right,on='id_student'), combined)\n",
    "combined['final_result'].value_counts()"
   ]
  },
  {
   "cell_type": "code",
   "execution_count": 31,
   "metadata": {},
   "outputs": [],
   "source": [
    "combined=combined.groupby('id_student')[['sum_click']].sum()"
   ]
  },
  {
   "cell_type": "code",
   "execution_count": 7,
   "metadata": {},
   "outputs": [
    {
     "data": {
      "text/plain": [
       "Withdrawn      5295\n",
       "Pass            784\n",
       "Fail            557\n",
       "Distinction     119\n",
       "Name: final_result, dtype: int64"
      ]
     },
     "execution_count": 7,
     "metadata": {},
     "output_type": "execute_result"
    }
   ],
   "source": [
    " = [student_info, combined]\n",
    "table2 = reduce(lambda left,right: pd.merge(left,right,on='id_student'), table)\n",
    "table2['final_result'].value_counts()"
   ]
  },
  {
   "cell_type": "code",
   "execution_count": 8,
   "metadata": {},
   "outputs": [],
   "source": [
    "table2['final']= np.where(table2['final_result']=='Withdrawn', 1, 0)"
   ]
  },
  {
   "cell_type": "markdown",
   "metadata": {},
   "source": []
  },
  {
   "cell_type": "code",
   "execution_count": 12,
   "metadata": {},
   "outputs": [
    {
     "data": {
      "text/plain": [
       "''"
      ]
     },
     "execution_count": 12,
     "metadata": {},
     "output_type": "execute_result"
    }
   ],
   "source": [
    ";\n"
   ]
  },
  {
   "cell_type": "code",
   "execution_count": 9,
   "metadata": {},
   "outputs": [],
   "source": [
    "le = preprocessing.LabelEncoder()\n",
    "df_final = table2.apply(le.fit_transform)\n",
    "\n",
    "#one hot encoding"
   ]
  },
  {
   "cell_type": "code",
   "execution_count": 10,
   "metadata": {},
   "outputs": [
    {
     "data": {
      "text/html": [
       "<div>\n",
       "<style scoped>\n",
       "    .dataframe tbody tr th:only-of-type {\n",
       "        vertical-align: middle;\n",
       "    }\n",
       "\n",
       "    .dataframe tbody tr th {\n",
       "        vertical-align: top;\n",
       "    }\n",
       "\n",
       "    .dataframe thead th {\n",
       "        text-align: right;\n",
       "    }\n",
       "</style>\n",
       "<table border=\"1\" class=\"dataframe\">\n",
       "  <thead>\n",
       "    <tr style=\"text-align: right;\">\n",
       "      <th></th>\n",
       "      <th>code_module</th>\n",
       "      <th>code_presentation</th>\n",
       "      <th>id_student</th>\n",
       "      <th>gender</th>\n",
       "      <th>region</th>\n",
       "      <th>highest_education</th>\n",
       "      <th>imd_band</th>\n",
       "      <th>age_band</th>\n",
       "      <th>num_of_prev_attempts</th>\n",
       "      <th>studied_credits</th>\n",
       "      <th>disability</th>\n",
       "      <th>final_result</th>\n",
       "      <th>sum_click</th>\n",
       "      <th>final</th>\n",
       "    </tr>\n",
       "  </thead>\n",
       "  <tbody>\n",
       "    <tr>\n",
       "      <th>0</th>\n",
       "      <td>0</td>\n",
       "      <td>1</td>\n",
       "      <td>59</td>\n",
       "      <td>0</td>\n",
       "      <td>0</td>\n",
       "      <td>0</td>\n",
       "      <td>7</td>\n",
       "      <td>0</td>\n",
       "      <td>0</td>\n",
       "      <td>4</td>\n",
       "      <td>0</td>\n",
       "      <td>3</td>\n",
       "      <td>885</td>\n",
       "      <td>1</td>\n",
       "    </tr>\n",
       "    <tr>\n",
       "      <th>1</th>\n",
       "      <td>0</td>\n",
       "      <td>3</td>\n",
       "      <td>59</td>\n",
       "      <td>0</td>\n",
       "      <td>0</td>\n",
       "      <td>0</td>\n",
       "      <td>7</td>\n",
       "      <td>0</td>\n",
       "      <td>1</td>\n",
       "      <td>4</td>\n",
       "      <td>0</td>\n",
       "      <td>1</td>\n",
       "      <td>885</td>\n",
       "      <td>0</td>\n",
       "    </tr>\n",
       "    <tr>\n",
       "      <th>2</th>\n",
       "      <td>0</td>\n",
       "      <td>1</td>\n",
       "      <td>102</td>\n",
       "      <td>1</td>\n",
       "      <td>8</td>\n",
       "      <td>2</td>\n",
       "      <td>7</td>\n",
       "      <td>1</td>\n",
       "      <td>0</td>\n",
       "      <td>4</td>\n",
       "      <td>0</td>\n",
       "      <td>3</td>\n",
       "      <td>2236</td>\n",
       "      <td>1</td>\n",
       "    </tr>\n",
       "    <tr>\n",
       "      <th>3</th>\n",
       "      <td>0</td>\n",
       "      <td>3</td>\n",
       "      <td>102</td>\n",
       "      <td>1</td>\n",
       "      <td>8</td>\n",
       "      <td>2</td>\n",
       "      <td>7</td>\n",
       "      <td>1</td>\n",
       "      <td>1</td>\n",
       "      <td>4</td>\n",
       "      <td>0</td>\n",
       "      <td>2</td>\n",
       "      <td>2236</td>\n",
       "      <td>0</td>\n",
       "    </tr>\n",
       "    <tr>\n",
       "      <th>4</th>\n",
       "      <td>0</td>\n",
       "      <td>1</td>\n",
       "      <td>116</td>\n",
       "      <td>1</td>\n",
       "      <td>8</td>\n",
       "      <td>1</td>\n",
       "      <td>8</td>\n",
       "      <td>1</td>\n",
       "      <td>0</td>\n",
       "      <td>4</td>\n",
       "      <td>0</td>\n",
       "      <td>3</td>\n",
       "      <td>880</td>\n",
       "      <td>1</td>\n",
       "    </tr>\n",
       "  </tbody>\n",
       "</table>\n",
       "</div>"
      ],
      "text/plain": [
       "   code_module  code_presentation  id_student  gender  region  \\\n",
       "0            0                  1          59       0       0   \n",
       "1            0                  3          59       0       0   \n",
       "2            0                  1         102       1       8   \n",
       "3            0                  3         102       1       8   \n",
       "4            0                  1         116       1       8   \n",
       "\n",
       "   highest_education  imd_band  age_band  num_of_prev_attempts  \\\n",
       "0                  0         7         0                     0   \n",
       "1                  0         7         0                     1   \n",
       "2                  2         7         1                     0   \n",
       "3                  2         7         1                     1   \n",
       "4                  1         8         1                     0   \n",
       "\n",
       "   studied_credits  disability  final_result  sum_click  final  \n",
       "0                4           0             3        885      1  \n",
       "1                4           0             1        885      0  \n",
       "2                4           0             3       2236      1  \n",
       "3                4           0             2       2236      0  \n",
       "4                4           0             3        880      1  "
      ]
     },
     "execution_count": 10,
     "metadata": {},
     "output_type": "execute_result"
    }
   ],
   "source": [
    "df_final.head()"
   ]
  },
  {
   "cell_type": "code",
   "execution_count": 18,
   "metadata": {},
   "outputs": [],
   "source": [
    "is3=df_final['code_presentation']==3"
   ]
  },
  {
   "cell_type": "code",
   "execution_count": 19,
   "metadata": {},
   "outputs": [],
   "source": [
    "df_final3=df_final[is3]"
   ]
  },
  {
   "cell_type": "code",
   "execution_count": 20,
   "metadata": {},
   "outputs": [],
   "source": [
    "df_final3=df_final3.drop(columns=\"code_module\")"
   ]
  },
  {
   "cell_type": "code",
   "execution_count": 21,
   "metadata": {},
   "outputs": [],
   "source": [
    "df_final3=df_final3.drop(columns=\"code_presentation\")"
   ]
  },
  {
   "cell_type": "code",
   "execution_count": 22,
   "metadata": {},
   "outputs": [],
   "source": [
    "df_final3=df_final3.drop(columns=\"id_student\")"
   ]
  },
  {
   "cell_type": "code",
   "execution_count": 23,
   "metadata": {},
   "outputs": [],
   "source": [
    "df_final3=df_final3.drop(columns=\"final_result\")"
   ]
  },
  {
   "cell_type": "code",
   "execution_count": 24,
   "metadata": {},
   "outputs": [],
   "source": [
    "df_final3nosum=df_final3.drop(columns=\"sum_click\")"
   ]
  },
  {
   "cell_type": "code",
   "execution_count": 25,
   "metadata": {},
   "outputs": [
    {
     "name": "stdout",
     "output_type": "stream",
     "text": [
      "Accuracy:0.744 \n",
      "\n"
     ]
    }
   ],
   "source": [
    "# Decision Tree for Table with sum_click\n",
    "\n",
    "X = df_final3.loc[:, df_final3.columns != 'final']\n",
    "y = df_final3['final']\n",
    "xTrain, xTest, yTrain, yTest = train_test_split(X, y,train_size = 0.75)\n",
    "\n",
    "dt = tree.DecisionTreeClassifier(criterion='gini')\n",
    "dt = dt.fit(xTrain, yTrain)\n",
    "train_pred = dt.predict(xTrain)\n",
    "test_pred = dt.predict(xTest)\n",
    "print(\"Accuracy:{0:.3f}\".format(metrics.accuracy_score(yTest, test_pred)),\"\\n\")"
   ]
  },
  {
   "cell_type": "code",
   "execution_count": 26,
   "metadata": {},
   "outputs": [
    {
     "name": "stdout",
     "output_type": "stream",
     "text": [
      "Accuracy:0.717 \n",
      "\n"
     ]
    }
   ],
   "source": [
    "# Decision Tree for Table with no sum_click\n",
    "\n",
    "X = df_final3nosum.loc[:, df_final3nosum.columns != 'final']\n",
    "y = df_final3nosum['final']\n",
    "xTrain, xTest, yTrain, yTest = train_test_split(X, y,train_size = 0.75)\n",
    "\n",
    "dt = tree.DecisionTreeClassifier(criterion='gini')\n",
    "dt = dt.fit(xTrain, yTrain)\n",
    "train_pred = dt.predict(xTrain)\n",
    "test_pred = dt.predict(xTest)\n",
    "print(\"Accuracy:{0:.3f}\".format(metrics.accuracy_score(yTest, test_pred)),\"\\n\")"
   ]
  },
  {
   "cell_type": "code",
   "execution_count": 27,
   "metadata": {},
   "outputs": [
    {
     "name": "stdout",
     "output_type": "stream",
     "text": [
      "Accuracy:0.789 \n",
      "\n"
     ]
    }
   ],
   "source": [
    "# Random Forest for Table with sum_click\n",
    "X = df_final3.loc[:, df_final3.columns != 'final']\n",
    "y = df_final3['final']\n",
    "xTrain, xTest, yTrain, yTest = train_test_split(X, y,train_size = 0.75)\n",
    "\n",
    "rf = RandomForestClassifier(n_estimators=10,random_state=33)\n",
    "rf = rf.fit(xTrain, yTrain)\n",
    "train_pred = rf.predict(xTrain)\n",
    "test_pred = rf.predict(xTest)\n",
    "print(\"Accuracy:{0:.3f}\".format(metrics.accuracy_score(yTest, test_pred)),\"\\n\")"
   ]
  },
  {
   "cell_type": "code",
   "execution_count": 25,
   "metadata": {},
   "outputs": [
    {
     "name": "stdout",
     "output_type": "stream",
     "text": [
      "Accuracy:0.748 \n",
      "\n"
     ]
    }
   ],
   "source": [
    "# Random Forest for Table without sum_click\n",
    "X = df_final3nosum.loc[:, df_final3nosum.columns != 'final']\n",
    "y = df_final3nosum['final']\n",
    "xTrain, xTest, yTrain, yTest = train_test_split(X, y,train_size = 0.75)\n",
    "\n",
    "rf = RandomForestClassifier(n_estimators=10,random_state=33)\n",
    "rf = rf.fit(xTrain, yTrain)\n",
    "train_pred = rf.predict(xTrain)\n",
    "test_pred = rf.predict(xTest)\n",
    "print(\"Accuracy:{0:.3f}\".format(metrics.accuracy_score(yTest, test_pred)),\"\\n\")"
   ]
  },
  {
   "cell_type": "code",
   "execution_count": 28,
   "metadata": {},
   "outputs": [
    {
     "name": "stderr",
     "output_type": "stream",
     "text": [
      "C:\\ProgramData\\Anaconda3\\lib\\site-packages\\sklearn\\model_selection\\_split.py:1978: FutureWarning: The default value of cv will change from 3 to 5 in version 0.22. Specify it explicitly to silence this warning.\n",
      "  warnings.warn(CV_WARNING, FutureWarning)\n"
     ]
    },
    {
     "data": {
      "image/png": "[encoded data removed]",
      "text/plain": [
       "<Figure size 432x288 with 2 Axes>"
      ]
     },
     "metadata": {
      "needs_background": "light"
     },
     "output_type": "display_data"
    }
   ],
   "source": [
    "import scikitplot as skplt\n",
    "from sklearn.model_selection import cross_val_predict\n",
    "\n",
    "y_pred = cross_val_predict(dt, xTest, yTest)\n",
    "skplt.metrics.plot_confusion_matrix(yTest, y_pred, normalize=False)\n",
    "\n",
    "plt.show()"
   ]
  },
  {
   "cell_type": "code",
   "execution_count": null,
   "metadata": {},
   "outputs": [],
   "source": [
    "#switch the steps"
   ]
  }
 ],
 "metadata": {
  "kernelspec": {
   "display_name": "Python 3",
   "language": "python",
   "name": "python3"
  },
  "language_info": {
   "codemirror_mode": {
    "name": "ipython",
    "version": 3
   },
   "file_extension": ".py",
   "mimetype": "text/x-python",
   "name": "python",
   "nbconvert_exporter": "python",
   "pygments_lexer": "ipython3",
   "version": "3.7.3"
  }
 },
 "nbformat": 4,
 "nbformat_minor": 2
}
